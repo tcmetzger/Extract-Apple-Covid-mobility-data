{
  "nbformat": 4,
  "nbformat_minor": 0,
  "metadata": {
    "colab": {
      "name": "apple-map-covid.ipynb",
      "provenance": [],
      "collapsed_sections": [],
      "mount_file_id": "1aO9qyKIKx5T68g1oPj3Qz3S3f8zIaTDO",
      "authorship_tag": "ABX9TyM6T4T+IOxL8K2dL8DWAftx",
      "include_colab_link": true
    },
    "kernelspec": {
      "name": "python3",
      "display_name": "Python 3"
    }
  },
  "cells": [
    {
      "cell_type": "markdown",
      "metadata": {
        "id": "view-in-github",
        "colab_type": "text"
      },
      "source": [
        "<a href=\"https://colab.research.google.com/github/tcmetzger/Extract-Apple-Covid-mobility-data/blob/master/apple_map_covid.ipynb\" target=\"_parent\"><img src=\"https://colab.research.google.com/assets/colab-badge.svg\" alt=\"Open In Colab\"/></a>"
      ]
    },
    {
      "cell_type": "markdown",
      "metadata": {
        "id": "UI2GFosgRUVb",
        "colab_type": "text"
      },
      "source": [
        "# Download and plot data from Apple Mobility Trends\n",
        "Source and information: https://www.apple.com/covid19/mobility"
      ]
    },
    {
      "cell_type": "markdown",
      "metadata": {
        "id": "ZcXT9ywoDRmx",
        "colab_type": "text"
      },
      "source": [
        "##Read and format data from apple-file"
      ]
    },
    {
      "cell_type": "markdown",
      "metadata": {
        "id": "byLx6y2URorB",
        "colab_type": "text"
      },
      "source": [
        "General imports:"
      ]
    },
    {
      "cell_type": "code",
      "metadata": {
        "id": "25-B6P0tA2Jd",
        "colab_type": "code",
        "colab": {}
      },
      "source": [
        "import datetime\n",
        "import pytz\n",
        "import pandas as pd\n",
        "import matplotlib.pyplot as plt"
      ],
      "execution_count": 0,
      "outputs": []
    },
    {
      "cell_type": "markdown",
      "metadata": {
        "id": "g2rNV9c6M2hk",
        "colab_type": "text"
      },
      "source": [
        "Generate url based on current date:"
      ]
    },
    {
      "cell_type": "code",
      "metadata": {
        "id": "mMGDH42wJ6SA",
        "colab_type": "code",
        "colab": {
          "base_uri": "https://localhost:8080/",
          "height": 34
        },
        "outputId": "237b4bb0-e021-41b2-fa2c-8a9a05bc4e54"
      },
      "source": [
        "now = datetime.datetime.now(pytz.timezone('US/Pacific'))\n",
        "date = now - datetime.timedelta(days=2)\n",
        "url = f'https://covid19-static.cdn-apple.com/covid19-mobility-data/2005HotfixDev13/v1/en-us/applemobilitytrends-{date.strftime(\"%Y-%m-%d\")}.csv'\n",
        "\n",
        "# url = '/content/drive/My Drive/Colab Notebooks/applemobilitytrends-2020-04-13.csv' # Alternatively: use downloaded file\n",
        "\n",
        "url"
      ],
      "execution_count": 2,
      "outputs": [
        {
          "output_type": "execute_result",
          "data": {
            "text/plain": [
              "'https://covid19-static.cdn-apple.com/covid19-mobility-data/2005HotfixDev13/v1/en-us/applemobilitytrends-2020-04-13.csv'"
            ]
          },
          "metadata": {
            "tags": []
          },
          "execution_count": 2
        }
      ]
    },
    {
      "cell_type": "markdown",
      "metadata": {
        "id": "RhN9u6jmM4Xi",
        "colab_type": "text"
      },
      "source": [
        "Download raw data and create DataFrame:\n",
        "\n",
        "1.   List item\n",
        "2.   List item\n",
        "\n"
      ]
    },
    {
      "cell_type": "code",
      "metadata": {
        "id": "LMCWiM2gBWzG",
        "colab_type": "code",
        "colab": {
          "base_uri": "https://localhost:8080/",
          "height": 244
        },
        "outputId": "a1c52c77-8600-412e-8c8a-9e7f499a1517"
      },
      "source": [
        "df = pd.read_csv(url, index_col=['geo_type', 'region', 'transportation_type']) # Create MultiIndex\n",
        "df = df.transpose()\n",
        "df.index = pd.to_datetime(df.index) # Parse dates\n",
        "df.head(3)"
      ],
      "execution_count": 4,
      "outputs": [
        {
          "output_type": "execute_result",
          "data": {
            "text/html": [
              "<div>\n",
              "<style scoped>\n",
              "    .dataframe tbody tr th:only-of-type {\n",
              "        vertical-align: middle;\n",
              "    }\n",
              "\n",
              "    .dataframe tbody tr th {\n",
              "        vertical-align: top;\n",
              "    }\n",
              "\n",
              "    .dataframe thead tr th {\n",
              "        text-align: left;\n",
              "    }\n",
              "</style>\n",
              "<table border=\"1\" class=\"dataframe\">\n",
              "  <thead>\n",
              "    <tr>\n",
              "      <th>geo_type</th>\n",
              "      <th colspan=\"40\" halign=\"left\">country/region</th>\n",
              "      <th>...</th>\n",
              "      <th colspan=\"40\" halign=\"left\">city</th>\n",
              "    </tr>\n",
              "    <tr>\n",
              "      <th>region</th>\n",
              "      <th colspan=\"2\" halign=\"left\">Albania</th>\n",
              "      <th colspan=\"2\" halign=\"left\">Argentina</th>\n",
              "      <th colspan=\"3\" halign=\"left\">Australia</th>\n",
              "      <th colspan=\"2\" halign=\"left\">Austria</th>\n",
              "      <th colspan=\"3\" halign=\"left\">Belgium</th>\n",
              "      <th colspan=\"3\" halign=\"left\">Brazil</th>\n",
              "      <th colspan=\"2\" halign=\"left\">Bulgaria</th>\n",
              "      <th colspan=\"2\" halign=\"left\">Cambodia</th>\n",
              "      <th colspan=\"3\" halign=\"left\">Canada</th>\n",
              "      <th colspan=\"2\" halign=\"left\">Chile</th>\n",
              "      <th colspan=\"2\" halign=\"left\">Colombia</th>\n",
              "      <th colspan=\"2\" halign=\"left\">Croatia</th>\n",
              "      <th colspan=\"3\" halign=\"left\">Czech Republic</th>\n",
              "      <th colspan=\"3\" halign=\"left\">Denmark</th>\n",
              "      <th colspan=\"2\" halign=\"left\">Egypt</th>\n",
              "      <th colspan=\"3\" halign=\"left\">Estonia</th>\n",
              "      <th>Finland</th>\n",
              "      <th>...</th>\n",
              "      <th>Stockholm</th>\n",
              "      <th colspan=\"3\" halign=\"left\">Stuttgart</th>\n",
              "      <th colspan=\"3\" halign=\"left\">Sydney</th>\n",
              "      <th colspan=\"3\" halign=\"left\">Taichung</th>\n",
              "      <th colspan=\"3\" halign=\"left\">Taipei</th>\n",
              "      <th colspan=\"2\" halign=\"left\">Tel Aviv</th>\n",
              "      <th colspan=\"2\" halign=\"left\">Tijuana</th>\n",
              "      <th colspan=\"3\" halign=\"left\">Tokyo</th>\n",
              "      <th colspan=\"3\" halign=\"left\">Toronto</th>\n",
              "      <th colspan=\"3\" halign=\"left\">Toulouse</th>\n",
              "      <th colspan=\"3\" halign=\"left\">Utrecht</th>\n",
              "      <th colspan=\"3\" halign=\"left\">Vancouver</th>\n",
              "      <th colspan=\"2\" halign=\"left\">Vienna</th>\n",
              "      <th colspan=\"3\" halign=\"left\">Washington DC</th>\n",
              "      <th colspan=\"3\" halign=\"left\">Zurich</th>\n",
              "    </tr>\n",
              "    <tr>\n",
              "      <th>transportation_type</th>\n",
              "      <th>driving</th>\n",
              "      <th>walking</th>\n",
              "      <th>driving</th>\n",
              "      <th>walking</th>\n",
              "      <th>driving</th>\n",
              "      <th>transit</th>\n",
              "      <th>walking</th>\n",
              "      <th>driving</th>\n",
              "      <th>walking</th>\n",
              "      <th>driving</th>\n",
              "      <th>transit</th>\n",
              "      <th>walking</th>\n",
              "      <th>driving</th>\n",
              "      <th>transit</th>\n",
              "      <th>walking</th>\n",
              "      <th>driving</th>\n",
              "      <th>walking</th>\n",
              "      <th>driving</th>\n",
              "      <th>walking</th>\n",
              "      <th>driving</th>\n",
              "      <th>transit</th>\n",
              "      <th>walking</th>\n",
              "      <th>driving</th>\n",
              "      <th>walking</th>\n",
              "      <th>driving</th>\n",
              "      <th>walking</th>\n",
              "      <th>driving</th>\n",
              "      <th>walking</th>\n",
              "      <th>driving</th>\n",
              "      <th>transit</th>\n",
              "      <th>walking</th>\n",
              "      <th>driving</th>\n",
              "      <th>transit</th>\n",
              "      <th>walking</th>\n",
              "      <th>driving</th>\n",
              "      <th>walking</th>\n",
              "      <th>driving</th>\n",
              "      <th>transit</th>\n",
              "      <th>walking</th>\n",
              "      <th>driving</th>\n",
              "      <th>...</th>\n",
              "      <th>walking</th>\n",
              "      <th>driving</th>\n",
              "      <th>transit</th>\n",
              "      <th>walking</th>\n",
              "      <th>driving</th>\n",
              "      <th>transit</th>\n",
              "      <th>walking</th>\n",
              "      <th>driving</th>\n",
              "      <th>transit</th>\n",
              "      <th>walking</th>\n",
              "      <th>driving</th>\n",
              "      <th>transit</th>\n",
              "      <th>walking</th>\n",
              "      <th>driving</th>\n",
              "      <th>walking</th>\n",
              "      <th>driving</th>\n",
              "      <th>walking</th>\n",
              "      <th>driving</th>\n",
              "      <th>transit</th>\n",
              "      <th>walking</th>\n",
              "      <th>driving</th>\n",
              "      <th>transit</th>\n",
              "      <th>walking</th>\n",
              "      <th>driving</th>\n",
              "      <th>transit</th>\n",
              "      <th>walking</th>\n",
              "      <th>driving</th>\n",
              "      <th>transit</th>\n",
              "      <th>walking</th>\n",
              "      <th>driving</th>\n",
              "      <th>transit</th>\n",
              "      <th>walking</th>\n",
              "      <th>driving</th>\n",
              "      <th>walking</th>\n",
              "      <th>driving</th>\n",
              "      <th>transit</th>\n",
              "      <th>walking</th>\n",
              "      <th>driving</th>\n",
              "      <th>transit</th>\n",
              "      <th>walking</th>\n",
              "    </tr>\n",
              "  </thead>\n",
              "  <tbody>\n",
              "    <tr>\n",
              "      <th>2020-01-13</th>\n",
              "      <td>100.00</td>\n",
              "      <td>100.00</td>\n",
              "      <td>100.00</td>\n",
              "      <td>100.00</td>\n",
              "      <td>100.00</td>\n",
              "      <td>100.00</td>\n",
              "      <td>100.00</td>\n",
              "      <td>100.00</td>\n",
              "      <td>100.00</td>\n",
              "      <td>100.00</td>\n",
              "      <td>100.00</td>\n",
              "      <td>100.00</td>\n",
              "      <td>100.00</td>\n",
              "      <td>100.00</td>\n",
              "      <td>100.00</td>\n",
              "      <td>100.00</td>\n",
              "      <td>100.00</td>\n",
              "      <td>100.00</td>\n",
              "      <td>100.00</td>\n",
              "      <td>100.00</td>\n",
              "      <td>100.00</td>\n",
              "      <td>100.00</td>\n",
              "      <td>100.00</td>\n",
              "      <td>100.00</td>\n",
              "      <td>100.00</td>\n",
              "      <td>100.00</td>\n",
              "      <td>100.00</td>\n",
              "      <td>100.00</td>\n",
              "      <td>100.00</td>\n",
              "      <td>100.00</td>\n",
              "      <td>100.00</td>\n",
              "      <td>100.00</td>\n",
              "      <td>100.00</td>\n",
              "      <td>100.00</td>\n",
              "      <td>100.00</td>\n",
              "      <td>100.00</td>\n",
              "      <td>100.00</td>\n",
              "      <td>100.00</td>\n",
              "      <td>100.00</td>\n",
              "      <td>100.00</td>\n",
              "      <td>...</td>\n",
              "      <td>100.00</td>\n",
              "      <td>100.00</td>\n",
              "      <td>100.00</td>\n",
              "      <td>100.00</td>\n",
              "      <td>100.00</td>\n",
              "      <td>100.00</td>\n",
              "      <td>100.00</td>\n",
              "      <td>100.00</td>\n",
              "      <td>100.00</td>\n",
              "      <td>100.00</td>\n",
              "      <td>100.00</td>\n",
              "      <td>100.00</td>\n",
              "      <td>100.00</td>\n",
              "      <td>100.00</td>\n",
              "      <td>100.00</td>\n",
              "      <td>100.00</td>\n",
              "      <td>100.00</td>\n",
              "      <td>100.00</td>\n",
              "      <td>100.00</td>\n",
              "      <td>100.00</td>\n",
              "      <td>100.00</td>\n",
              "      <td>100.00</td>\n",
              "      <td>100.00</td>\n",
              "      <td>100.00</td>\n",
              "      <td>100.00</td>\n",
              "      <td>100.00</td>\n",
              "      <td>100.00</td>\n",
              "      <td>100.00</td>\n",
              "      <td>100.00</td>\n",
              "      <td>100.00</td>\n",
              "      <td>100.00</td>\n",
              "      <td>100.00</td>\n",
              "      <td>100.00</td>\n",
              "      <td>100.00</td>\n",
              "      <td>100.00</td>\n",
              "      <td>100.00</td>\n",
              "      <td>100.00</td>\n",
              "      <td>100.00</td>\n",
              "      <td>100.00</td>\n",
              "      <td>100.00</td>\n",
              "    </tr>\n",
              "    <tr>\n",
              "      <th>2020-01-14</th>\n",
              "      <td>95.30</td>\n",
              "      <td>100.68</td>\n",
              "      <td>97.07</td>\n",
              "      <td>95.11</td>\n",
              "      <td>102.98</td>\n",
              "      <td>101.78</td>\n",
              "      <td>101.31</td>\n",
              "      <td>101.14</td>\n",
              "      <td>101.55</td>\n",
              "      <td>101.19</td>\n",
              "      <td>98.67</td>\n",
              "      <td>101.46</td>\n",
              "      <td>99.71</td>\n",
              "      <td>102.45</td>\n",
              "      <td>106.30</td>\n",
              "      <td>102.56</td>\n",
              "      <td>101.90</td>\n",
              "      <td>100.75</td>\n",
              "      <td>98.06</td>\n",
              "      <td>102.91</td>\n",
              "      <td>100.03</td>\n",
              "      <td>106.29</td>\n",
              "      <td>99.01</td>\n",
              "      <td>102.58</td>\n",
              "      <td>97.85</td>\n",
              "      <td>103.15</td>\n",
              "      <td>102.23</td>\n",
              "      <td>103.28</td>\n",
              "      <td>101.17</td>\n",
              "      <td>98.02</td>\n",
              "      <td>99.92</td>\n",
              "      <td>103.67</td>\n",
              "      <td>98.09</td>\n",
              "      <td>99.31</td>\n",
              "      <td>98.78</td>\n",
              "      <td>96.45</td>\n",
              "      <td>106.93</td>\n",
              "      <td>99.03</td>\n",
              "      <td>103.31</td>\n",
              "      <td>102.42</td>\n",
              "      <td>...</td>\n",
              "      <td>101.26</td>\n",
              "      <td>101.78</td>\n",
              "      <td>100.34</td>\n",
              "      <td>97.33</td>\n",
              "      <td>104.24</td>\n",
              "      <td>101.56</td>\n",
              "      <td>103.91</td>\n",
              "      <td>105.24</td>\n",
              "      <td>106.07</td>\n",
              "      <td>114.16</td>\n",
              "      <td>107.02</td>\n",
              "      <td>108.05</td>\n",
              "      <td>105.60</td>\n",
              "      <td>103.94</td>\n",
              "      <td>105.37</td>\n",
              "      <td>93.97</td>\n",
              "      <td>100.19</td>\n",
              "      <td>96.58</td>\n",
              "      <td>99.82</td>\n",
              "      <td>95.46</td>\n",
              "      <td>105.38</td>\n",
              "      <td>102.39</td>\n",
              "      <td>108.27</td>\n",
              "      <td>103.92</td>\n",
              "      <td>93.78</td>\n",
              "      <td>114.18</td>\n",
              "      <td>108.08</td>\n",
              "      <td>100.14</td>\n",
              "      <td>113.55</td>\n",
              "      <td>101.21</td>\n",
              "      <td>93.81</td>\n",
              "      <td>105.24</td>\n",
              "      <td>103.12</td>\n",
              "      <td>103.45</td>\n",
              "      <td>105.82</td>\n",
              "      <td>100.78</td>\n",
              "      <td>99.07</td>\n",
              "      <td>102.38</td>\n",
              "      <td>101.51</td>\n",
              "      <td>106.27</td>\n",
              "    </tr>\n",
              "    <tr>\n",
              "      <th>2020-01-15</th>\n",
              "      <td>101.43</td>\n",
              "      <td>98.93</td>\n",
              "      <td>102.45</td>\n",
              "      <td>101.37</td>\n",
              "      <td>104.21</td>\n",
              "      <td>100.64</td>\n",
              "      <td>101.82</td>\n",
              "      <td>104.24</td>\n",
              "      <td>105.59</td>\n",
              "      <td>107.49</td>\n",
              "      <td>105.01</td>\n",
              "      <td>110.44</td>\n",
              "      <td>100.90</td>\n",
              "      <td>104.28</td>\n",
              "      <td>104.75</td>\n",
              "      <td>104.73</td>\n",
              "      <td>99.61</td>\n",
              "      <td>99.33</td>\n",
              "      <td>99.70</td>\n",
              "      <td>99.74</td>\n",
              "      <td>98.01</td>\n",
              "      <td>106.65</td>\n",
              "      <td>102.57</td>\n",
              "      <td>103.13</td>\n",
              "      <td>99.65</td>\n",
              "      <td>104.44</td>\n",
              "      <td>102.77</td>\n",
              "      <td>105.83</td>\n",
              "      <td>106.68</td>\n",
              "      <td>101.88</td>\n",
              "      <td>103.24</td>\n",
              "      <td>105.55</td>\n",
              "      <td>98.22</td>\n",
              "      <td>104.04</td>\n",
              "      <td>104.14</td>\n",
              "      <td>100.74</td>\n",
              "      <td>106.41</td>\n",
              "      <td>99.77</td>\n",
              "      <td>104.45</td>\n",
              "      <td>105.41</td>\n",
              "      <td>...</td>\n",
              "      <td>112.11</td>\n",
              "      <td>109.66</td>\n",
              "      <td>104.36</td>\n",
              "      <td>106.65</td>\n",
              "      <td>100.77</td>\n",
              "      <td>96.20</td>\n",
              "      <td>98.65</td>\n",
              "      <td>109.83</td>\n",
              "      <td>130.89</td>\n",
              "      <td>119.24</td>\n",
              "      <td>114.21</td>\n",
              "      <td>117.32</td>\n",
              "      <td>115.59</td>\n",
              "      <td>103.37</td>\n",
              "      <td>107.26</td>\n",
              "      <td>93.60</td>\n",
              "      <td>99.04</td>\n",
              "      <td>97.77</td>\n",
              "      <td>101.70</td>\n",
              "      <td>102.60</td>\n",
              "      <td>102.42</td>\n",
              "      <td>100.57</td>\n",
              "      <td>109.14</td>\n",
              "      <td>104.31</td>\n",
              "      <td>103.04</td>\n",
              "      <td>125.73</td>\n",
              "      <td>107.76</td>\n",
              "      <td>107.34</td>\n",
              "      <td>113.67</td>\n",
              "      <td>73.72</td>\n",
              "      <td>86.78</td>\n",
              "      <td>91.04</td>\n",
              "      <td>106.60</td>\n",
              "      <td>106.04</td>\n",
              "      <td>109.02</td>\n",
              "      <td>103.92</td>\n",
              "      <td>109.61</td>\n",
              "      <td>110.84</td>\n",
              "      <td>108.93</td>\n",
              "      <td>116.73</td>\n",
              "    </tr>\n",
              "  </tbody>\n",
              "</table>\n",
              "<p>3 rows × 395 columns</p>\n",
              "</div>"
            ],
            "text/plain": [
              "geo_type            country/region                    ...    city                \n",
              "region                     Albania         Argentina  ...  Zurich                \n",
              "transportation_type        driving walking   driving  ... driving transit walking\n",
              "2020-01-13                  100.00  100.00    100.00  ...  100.00  100.00  100.00\n",
              "2020-01-14                   95.30  100.68     97.07  ...  102.38  101.51  106.27\n",
              "2020-01-15                  101.43   98.93    102.45  ...  110.84  108.93  116.73\n",
              "\n",
              "[3 rows x 395 columns]"
            ]
          },
          "metadata": {
            "tags": []
          },
          "execution_count": 4
        }
      ]
    },
    {
      "cell_type": "code",
      "metadata": {
        "id": "6p5qXbg5Cnf5",
        "colab_type": "code",
        "colab": {
          "base_uri": "https://localhost:8080/",
          "height": 101
        },
        "outputId": "80962a2c-7bf9-4990-916e-6f5198261e0e"
      },
      "source": [
        "df.info()"
      ],
      "execution_count": 5,
      "outputs": [
        {
          "output_type": "stream",
          "text": [
            "<class 'pandas.core.frame.DataFrame'>\n",
            "DatetimeIndex: 92 entries, 2020-01-13 to 2020-04-13\n",
            "Columns: 395 entries, ('country/region', 'Albania', 'driving') to ('city', 'Zurich', 'walking')\n",
            "dtypes: float64(395)\n",
            "memory usage: 284.6 KB\n"
          ],
          "name": "stdout"
        }
      ]
    },
    {
      "cell_type": "markdown",
      "metadata": {
        "id": "8iaQHXlOmF-N",
        "colab_type": "text"
      },
      "source": [
        "## Extract city data"
      ]
    },
    {
      "cell_type": "markdown",
      "metadata": {
        "id": "TdrBJf0BNRZr",
        "colab_type": "text"
      },
      "source": [
        "Set up variables:"
      ]
    },
    {
      "cell_type": "code",
      "metadata": {
        "id": "1ix1GQhAmfPn",
        "colab_type": "code",
        "colab": {}
      },
      "source": [
        "geo_type = 'city'\n",
        "regions =['Bochum - Dortmund', 'Cologne', 'Dusseldorf']\n",
        "transportation_type = 'driving' # Alternative values: 'walking', 'transit'\n",
        "start_date = '2020-01-13' # Option to set later start date"
      ],
      "execution_count": 0,
      "outputs": []
    },
    {
      "cell_type": "markdown",
      "metadata": {
        "id": "pfTGuJxdNVE6",
        "colab_type": "text"
      },
      "source": [
        "Create dict for German translations:"
      ]
    },
    {
      "cell_type": "code",
      "metadata": {
        "id": "hGi7NLGOFxAU",
        "colab_type": "code",
        "colab": {}
      },
      "source": [
        "translations = {\n",
        "    'Bochum - Dortmund' : 'Bochum/Dortmund', \n",
        "    'Cologne' : 'Köln',\n",
        "    'Dusseldorf' : 'Düsseldorf',\n",
        "}"
      ],
      "execution_count": 0,
      "outputs": []
    },
    {
      "cell_type": "markdown",
      "metadata": {
        "id": "SDFYnlJ-NZtb",
        "colab_type": "text"
      },
      "source": [
        "Generate DataFrame for graph:"
      ]
    },
    {
      "cell_type": "code",
      "metadata": {
        "id": "gnM_zzaBnYCo",
        "colab_type": "code",
        "colab": {
          "base_uri": "https://localhost:8080/",
          "height": 195
        },
        "outputId": "9c473b2a-0175-4cab-ea8d-9fec64002260"
      },
      "source": [
        "mask = df.index >= start_date\n",
        "cities_df = pd.DataFrame()\n",
        "for region in regions:\n",
        "    cities_df[translations[region]] = df[(geo_type, region, transportation_type)][mask]\n",
        "\n",
        "cities_df['Deutschland insges.'] = df[('country/region', 'Germany', transportation_type)][mask]\n",
        "\n",
        "cities_df.head()"
      ],
      "execution_count": 8,
      "outputs": [
        {
          "output_type": "execute_result",
          "data": {
            "text/html": [
              "<div>\n",
              "<style scoped>\n",
              "    .dataframe tbody tr th:only-of-type {\n",
              "        vertical-align: middle;\n",
              "    }\n",
              "\n",
              "    .dataframe tbody tr th {\n",
              "        vertical-align: top;\n",
              "    }\n",
              "\n",
              "    .dataframe thead th {\n",
              "        text-align: right;\n",
              "    }\n",
              "</style>\n",
              "<table border=\"1\" class=\"dataframe\">\n",
              "  <thead>\n",
              "    <tr style=\"text-align: right;\">\n",
              "      <th></th>\n",
              "      <th>Bochum/Dortmund</th>\n",
              "      <th>Köln</th>\n",
              "      <th>Düsseldorf</th>\n",
              "      <th>Deutschland insges.</th>\n",
              "    </tr>\n",
              "  </thead>\n",
              "  <tbody>\n",
              "    <tr>\n",
              "      <th>2020-01-13</th>\n",
              "      <td>100.00</td>\n",
              "      <td>100.00</td>\n",
              "      <td>100.00</td>\n",
              "      <td>100.00</td>\n",
              "    </tr>\n",
              "    <tr>\n",
              "      <th>2020-01-14</th>\n",
              "      <td>100.72</td>\n",
              "      <td>94.81</td>\n",
              "      <td>104.58</td>\n",
              "      <td>101.31</td>\n",
              "    </tr>\n",
              "    <tr>\n",
              "      <th>2020-01-15</th>\n",
              "      <td>105.40</td>\n",
              "      <td>95.04</td>\n",
              "      <td>103.00</td>\n",
              "      <td>102.82</td>\n",
              "    </tr>\n",
              "    <tr>\n",
              "      <th>2020-01-16</th>\n",
              "      <td>100.43</td>\n",
              "      <td>97.11</td>\n",
              "      <td>103.91</td>\n",
              "      <td>104.61</td>\n",
              "    </tr>\n",
              "    <tr>\n",
              "      <th>2020-01-17</th>\n",
              "      <td>111.27</td>\n",
              "      <td>107.21</td>\n",
              "      <td>114.26</td>\n",
              "      <td>114.38</td>\n",
              "    </tr>\n",
              "  </tbody>\n",
              "</table>\n",
              "</div>"
            ],
            "text/plain": [
              "            Bochum/Dortmund    Köln  Düsseldorf  Deutschland insges.\n",
              "2020-01-13           100.00  100.00      100.00               100.00\n",
              "2020-01-14           100.72   94.81      104.58               101.31\n",
              "2020-01-15           105.40   95.04      103.00               102.82\n",
              "2020-01-16           100.43   97.11      103.91               104.61\n",
              "2020-01-17           111.27  107.21      114.26               114.38"
            ]
          },
          "metadata": {
            "tags": []
          },
          "execution_count": 8
        }
      ]
    },
    {
      "cell_type": "markdown",
      "metadata": {
        "id": "bf0K-8cpG7pB",
        "colab_type": "text"
      },
      "source": [
        "## Plot city data"
      ]
    },
    {
      "cell_type": "code",
      "metadata": {
        "id": "95o92n-REMC_",
        "colab_type": "code",
        "colab": {
          "base_uri": "https://localhost:8080/",
          "height": 438
        },
        "outputId": "e2933eaa-10e8-4f80-efcd-45adb2c44a56"
      },
      "source": [
        "import numpy as np\n",
        "import seaborn as sns\n",
        "from matplotlib.ticker import FuncFormatter\n",
        "from matplotlib.dates import DateFormatter\n",
        "\n",
        "sns.set(style=\"darkgrid\", rc={'figure.figsize':(10.66, 6)})\n",
        "sns.set_context(\"notebook\", font_scale=1.5)\n",
        "#plt.xticks(rotation=45, horizontalalignment='right')\n",
        "\n",
        "chart = sns.lineplot(data=cities_df, dashes=False)\n",
        "chart.xaxis.set_major_formatter(DateFormatter('%d.%m')) # Format x axis (dates)\n",
        "chart.yaxis.set_major_formatter(FuncFormatter(lambda y, _: '{:.0%}'.format(y/100))) # Format y axis (percentages)\n",
        "sns.despine()"
      ],
      "execution_count": 9,
      "outputs": [
        {
          "output_type": "stream",
          "text": [
            "/usr/local/lib/python3.6/dist-packages/statsmodels/tools/_testing.py:19: FutureWarning: pandas.util.testing is deprecated. Use the functions in the public API at pandas.testing instead.\n",
            "  import pandas.util.testing as tm\n"
          ],
          "name": "stderr"
        },
        {
          "output_type": "display_data",
          "data": {
            "image/png": "[encoded data removed]",
            "text/plain": [
              "<Figure size 767.52x432 with 1 Axes>"
            ]
          },
          "metadata": {
            "tags": []
          }
        }
      ]
    }
  ]
}